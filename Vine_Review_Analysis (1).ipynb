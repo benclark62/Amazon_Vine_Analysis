{
  "nbformat": 4,
  "nbformat_minor": 0,
  "metadata": {
    "colab": {
      "name": "Vine_Review_Analysis.ipynb",
      "provenance": []
    },
    "kernelspec": {
      "name": "python3",
      "display_name": "Python 3"
    },
    "language_info": {
      "name": "python"
    }
  },
  "cells": [
    {
      "cell_type": "code",
      "metadata": {
        "colab": {
          "base_uri": "https://localhost:8080/"
        },
        "id": "foXOLBsBvLSm",
        "outputId": "27baec1f-b357-4df6-8f8e-fdedfc85ecc1"
      },
      "source": [
        "import os\n",
        "# Find the latest version of spark 2.0  from http://www-us.apache.org/dist/spark/ and enter as the spark version\n",
        "# For example:\n",
        "# spark_version = 'spark-3.0.0'\n",
        "spark_version = 'spark-3.0.2'\n",
        "os.environ['SPARK_VERSION']=spark_version\n",
        "\n",
        "# Install Spark and Java\n",
        "!apt-get update\n",
        "!apt-get install openjdk-11-jdk-headless -qq > /dev/null\n",
        "!wget -q http://www-us.apache.org/dist/spark/$SPARK_VERSION/$SPARK_VERSION-bin-hadoop2.7.tgz\n",
        "!tar xf $SPARK_VERSION-bin-hadoop2.7.tgz\n",
        "!pip install -q findspark\n",
        "\n",
        "# Set Environment Variables\n",
        "import os\n",
        "os.environ[\"JAVA_HOME\"] = \"/usr/lib/jvm/java-11-openjdk-amd64\"\n",
        "os.environ[\"SPARK_HOME\"] = f\"/content/{spark_version}-bin-hadoop2.7\"\n",
        "\n",
        "# Start a SparkSession\n",
        "import findspark\n",
        "findspark.init()"
      ],
      "execution_count": 31,
      "outputs": [
        {
          "output_type": "stream",
          "text": [
            "\r0% [Working]\r            \rIgn:1 https://developer.download.nvidia.com/compute/cuda/repos/ubuntu1804/x86_64  InRelease\n",
            "\r0% [Connecting to archive.ubuntu.com (91.189.88.152)] [Waiting for headers] [Wa\r                                                                               \rHit:2 https://cloud.r-project.org/bin/linux/ubuntu bionic-cran40/ InRelease\n",
            "\r0% [Connecting to archive.ubuntu.com (91.189.88.152)] [Waiting for headers] [Wa\r0% [2 InRelease gpgv 3,626 B] [Connecting to archive.ubuntu.com (91.189.88.152)\r                                                                               \rIgn:3 https://developer.download.nvidia.com/compute/machine-learning/repos/ubuntu1804/x86_64  InRelease\n",
            "\r0% [2 InRelease gpgv 3,626 B] [Connecting to archive.ubuntu.com (91.189.88.152)\r                                                                               \rHit:4 http://ppa.launchpad.net/c2d4u.team/c2d4u4.0+/ubuntu bionic InRelease\n",
            "Get:5 http://security.ubuntu.com/ubuntu bionic-security InRelease [88.7 kB]\n",
            "Hit:6 https://developer.download.nvidia.com/compute/cuda/repos/ubuntu1804/x86_64  Release\n",
            "Hit:7 https://developer.download.nvidia.com/compute/machine-learning/repos/ubuntu1804/x86_64  Release\n",
            "Hit:8 http://archive.ubuntu.com/ubuntu bionic InRelease\n",
            "Hit:9 http://ppa.launchpad.net/cran/libgit2/ubuntu bionic InRelease\n",
            "Get:10 http://archive.ubuntu.com/ubuntu bionic-updates InRelease [88.7 kB]\n",
            "Hit:11 http://ppa.launchpad.net/deadsnakes/ppa/ubuntu bionic InRelease\n",
            "Get:12 http://archive.ubuntu.com/ubuntu bionic-backports InRelease [74.6 kB]\n",
            "Hit:13 http://ppa.launchpad.net/graphics-drivers/ppa/ubuntu bionic InRelease\n",
            "Fetched 252 kB in 2s (102 kB/s)\n",
            "Reading package lists... Done\n"
          ],
          "name": "stdout"
        }
      ]
    },
    {
      "cell_type": "code",
      "metadata": {
        "colab": {
          "base_uri": "https://localhost:8080/"
        },
        "id": "QSpi43I3vawZ",
        "outputId": "096996d6-aa42-4b4b-f86c-bc9a7351151b"
      },
      "source": [
        "# Download the Postgres driver that will allow Spark to interact with Postgres.\n",
        "!wget https://jdbc.postgresql.org/download/postgresql-42.2.16.jar"
      ],
      "execution_count": 32,
      "outputs": [
        {
          "output_type": "stream",
          "text": [
            "--2021-04-04 23:51:47--  https://jdbc.postgresql.org/download/postgresql-42.2.16.jar\n",
            "Resolving jdbc.postgresql.org (jdbc.postgresql.org)... 72.32.157.228, 2001:4800:3e1:1::228\n",
            "Connecting to jdbc.postgresql.org (jdbc.postgresql.org)|72.32.157.228|:443... connected.\n",
            "HTTP request sent, awaiting response... 200 OK\n",
            "Length: 1002883 (979K) [application/java-archive]\n",
            "Saving to: ‘postgresql-42.2.16.jar.1’\n",
            "\n",
            "postgresql-42.2.16. 100%[===================>] 979.38K  --.-KB/s    in 0.1s    \n",
            "\n",
            "2021-04-04 23:51:47 (6.58 MB/s) - ‘postgresql-42.2.16.jar.1’ saved [1002883/1002883]\n",
            "\n"
          ],
          "name": "stdout"
        }
      ]
    },
    {
      "cell_type": "code",
      "metadata": {
        "id": "By7W7kOlvoXX"
      },
      "source": [
        "from pyspark.sql import SparkSession\n",
        "spark = SparkSession.builder.appName(\"BigData-Challenge\").config(\"spark.driver.extraClassPath\",\"/content/postgresql-42.2.16.jar\").getOrCreate()"
      ],
      "execution_count": 33,
      "outputs": []
    },
    {
      "cell_type": "code",
      "metadata": {
        "colab": {
          "base_uri": "https://localhost:8080/"
        },
        "id": "ALU6Kp81vrCI",
        "outputId": "e800c046-d6b5-468d-9936-47e2b1a5789a"
      },
      "source": [
        "from pyspark import SparkFiles\n",
        "url = \"https://s3.amazonaws.com/amazon-reviews-pds/tsv/amazon_reviews_us_Watches_v1_00.tsv.gz\"\n",
        "spark.sparkContext.addFile(url)\n",
        "df = spark.read.option(\"encoding\", \"UTF-8\").csv(SparkFiles.get(\"\"), sep=\"\\t\", header=True, inferSchema=True)\n",
        "df.show()"
      ],
      "execution_count": 35,
      "outputs": [
        {
          "output_type": "stream",
          "text": [
            "+-----------+-----------+--------------+----------+--------------+--------------------+----------------+-----------+-------------+-----------+----+-----------------+--------------------+--------------------+-----------+\n",
            "|marketplace|customer_id|     review_id|product_id|product_parent|       product_title|product_category|star_rating|helpful_votes|total_votes|vine|verified_purchase|     review_headline|         review_body|review_date|\n",
            "+-----------+-----------+--------------+----------+--------------+--------------------+----------------+-----------+-------------+-----------+----+-----------------+--------------------+--------------------+-----------+\n",
            "|         US|    3653882|R3O9SGZBVQBV76|B00FALQ1ZC|     937001370|Invicta Women's 1...|         Watches|          5|            0|          0|   N|                Y|          Five Stars|Absolutely love t...| 2015-08-31|\n",
            "|         US|   14661224| RKH8BNC3L5DLF|B00D3RGO20|     484010722|Kenneth Cole New ...|         Watches|          5|            0|          0|   N|                Y|I love thiswatch ...|I love this watch...| 2015-08-31|\n",
            "|         US|   27324930|R2HLE8WKZSU3NL|B00DKYC7TK|     361166390|Ritche 22mm Black...|         Watches|          2|            1|          1|   N|                Y|           Two Stars|           Scratches| 2015-08-31|\n",
            "|         US|    7211452|R31U3UH5AZ42LL|B000EQS1JW|     958035625|Citizen Men's BM8...|         Watches|          5|            0|          0|   N|                Y|          Five Stars|It works well on ...| 2015-08-31|\n",
            "|         US|   12733322|R2SV659OUJ945Y|B00A6GFD7S|     765328221|Orient ER27009B M...|         Watches|          4|            0|          0|   N|                Y|Beautiful face, b...|Beautiful watch f...| 2015-08-31|\n",
            "|         US|    6576411| RA51CP8TR5A2L|B00EYSOSE8|     230493695|Casio Men's GW-94...|         Watches|          5|            0|          0|   N|                Y|       No complaints|i love this watch...| 2015-08-31|\n",
            "|         US|   11811565| RB2Q7DLDN6TH6|B00WM0QA3M|     549298279|Fossil Women's ES...|         Watches|          5|            1|          1|   N|                Y|          Five Stars|for my wife and s...| 2015-08-31|\n",
            "|         US|   49401598|R2RHFJV0UYBK3Y|B00A4EYBR0|     844009113|INFANTRY Mens Nig...|         Watches|          1|            1|          5|   N|                N|I was about to bu...|I was about to bu...| 2015-08-31|\n",
            "|         US|   45925069|R2Z6JOQ94LFHEP|B00MAMPGGE|     263720892|G-Shock Men's Gre...|         Watches|          5|            1|          2|   N|                Y|      Perfect watch!|Watch is perfect....| 2015-08-31|\n",
            "|         US|   44751341| RX27XIIWY5JPB|B004LBPB7Q|     124278407|Heiden Quad Watch...|         Watches|          4|            0|          0|   N|                Y|Great quality and...|Great quality and...| 2015-08-31|\n",
            "|         US|    9962330|R15C7QEZT0LGZN|B00KGTVGKS|      28017857|Fossil Women's ES...|         Watches|          4|            2|          2|   N|                Y|           Satisfied|The watch was pre...| 2015-08-31|\n",
            "|         US|   16097204|R361XSS37V0NCZ|B0039UT5OU|     685450910|Casio General Men...|         Watches|          1|            0|          0|   N|                N|I do not think th...|I bought this wat...| 2015-08-31|\n",
            "|         US|   51330346| ROTNLALUAJAUB|B00MPF0XJQ|     767769082|2Tone Gold Silver...|         Watches|          3|            0|          0|   N|                Y|         Three Stars|It is a cheap wat...| 2015-08-31|\n",
            "|         US|    4201739|R2DYX7QU6BGOHR|B003P1OHHS|     648595227|Bulova Men's 98B1...|         Watches|          5|            0|          0|   N|                Y|          Five Stars|Heavier than i th...| 2015-08-31|\n",
            "|         US|   26339765| RWASY7FKI7QOT|B00R70YEOE|     457338020|Casio - G-Shock -...|         Watches|          5|            2|          3|   N|                Y|  Worth it - love it|Had it for severa...| 2015-08-31|\n",
            "|         US|    2692576|R2KKYZIN3CCL21|B000FVE3BG|     824370661|Invicta Men's 332...|         Watches|          5|            0|          0|   N|                Y|This is when diff...|This one is diffe...| 2015-08-31|\n",
            "|         US|   44713366|R22H4FGVD5O52O|B008X6JB12|     814431355|Seiko Women's SUT...|         Watches|          4|            1|          1|   N|                Y|Thewatch is attra...|The watch is attr...| 2015-08-31|\n",
            "|         US|   32778769|R11UACZERCM4ZY|B0040UOFPW|     187700878|Anne Klein Women'...|         Watches|          5|            0|          0|   N|                Y|          Five Stars|      said my wife..| 2015-08-31|\n",
            "|         US|   27258523|R1AT8NQ38UQOL6|B00UR2R5UY|     594315262|Guess U13630G1 Me...|         Watches|          5|            0|          0|   N|                Y|          Five Stars|Nice watch, on ti...| 2015-08-31|\n",
            "|         US|   42646538|R2NCZRQGIF1Q75|B00HFF57L0|     520810507|Nixon Men's Geo V...|         Watches|          4|            0|          0|   N|                Y|        Very stylish|Looks great and l...| 2015-08-31|\n",
            "+-----------+-----------+--------------+----------+--------------+--------------------+----------------+-----------+-------------+-----------+----+-----------------+--------------------+--------------------+-----------+\n",
            "only showing top 20 rows\n",
            "\n"
          ],
          "name": "stdout"
        }
      ]
    },
    {
      "cell_type": "code",
      "metadata": {
        "colab": {
          "base_uri": "https://localhost:8080/"
        },
        "id": "k-F4dyr2vuVx",
        "outputId": "46ad0252-73b6-4b6b-b984-285b9c004e47"
      },
      "source": [
        "df_filtered = df.filter(\"total_votes>20\")\n",
        "df_filtered.show()"
      ],
      "execution_count": 52,
      "outputs": [
        {
          "output_type": "stream",
          "text": [
            "+-----------+-----------+--------------+----------+--------------+--------------------+----------------+-----------+-------------+-----------+----+-----------------+--------------------+--------------------+-----------+\n",
            "|marketplace|customer_id|     review_id|product_id|product_parent|       product_title|product_category|star_rating|helpful_votes|total_votes|vine|verified_purchase|     review_headline|         review_body|review_date|\n",
            "+-----------+-----------+--------------+----------+--------------+--------------------+----------------+-----------+-------------+-----------+----+-----------------+--------------------+--------------------+-----------+\n",
            "|         US|   15806601|R1BTWIBLYYVOV7|B00I1LM5SK|     878438426|Seiko Men's SSC22...|         Watches|          5|           30|         30|   N|                Y|Extremely Satisfied!|A beautiful timep...| 2015-08-31|\n",
            "|         US|   14870011| R6F9VY91ADPLA|B002ZLE41I|     118278818|Grand Seiko Wrist...|         Watches|          1|            8|         30|   N|                N|            NOT a GS|NOT a Grand Seiko...| 2015-08-31|\n",
            "|         US|   32751852|R3PXNV89DFIXKV|B00OAY5ZPC|     814269665|G-Shock Men's Mil...|         Watches|          5|           35|         37|   N|                Y|Sweet watch perfe...|Sweet watch perfe...| 2015-08-30|\n",
            "|         US|   36877359|R2ZF9NYVT3J7D6|B000JQJS6M|     926299553|Invicta Men's 892...|         Watches|          5|           19|         22|   N|                Y|Wow what a great ...|I bought this wat...| 2015-08-30|\n",
            "|         US|   52450678|R20NYA5V0UF9NE|B00EX1GLXM|     186312431|Daniel Wellington...|         Watches|          5|           27|         28|   N|                Y|  Best Women's Watch|I love this watch...| 2015-08-30|\n",
            "|         US|   20624774|R2X8FZRUOS8R8C|B00WUY9RGM|     609917507|Bulova Accutron I...|         Watches|          4|           25|         26|   N|                Y|A very nice reiss...|A very nice reiss...| 2015-08-29|\n",
            "|         US|   36602051|R25UD9TA63L3Q8|B00YTYH16Y|     251372732|Timex Expedition ...|         Watches|          5|           25|         27|   N|                Y|Great watch for s...|I work in an a me...| 2015-08-28|\n",
            "|         US|   47047549|R2RB1HML8N712P|B00J5QR062|     220979928|Casio Men's GA-11...|         Watches|          5|           26|         28|   N|                Y| My First G-SHOCK...|I'll be honest I ...| 2015-08-28|\n",
            "|         US|    2546433| ROXA8XP5EI2KK|B009XGOP8A|     973820677|Michael Kors Wome...|         Watches|          5|           48|         49|   N|                N|I love it. I woul...|This thing is gor...| 2015-08-28|\n",
            "|         US|   53096363|R1B7M0OP3UNP6O|B00V0G9OGE|     297682929|Armitron Sport Wo...|         Watches|          5|           49|         52|   Y|                N|Lots of features ...|My wife has been ...| 2015-08-27|\n",
            "|         US|   27863178|R2N92CUM7WBA1A|B013XHV4GU|     119578945|G-Shock Men's G-S...|         Watches|          5|           27|         28|   N|                Y|Big, but proporti...|This is a great c...| 2015-08-27|\n",
            "|         US|   41750372|R2TAFZNG4KHFQB|B00YTY8MQW|     967993443|Timex Men's Weeke...|         Watches|          4|           24|         24|   N|                Y|Quiet Timex Weeke...|I recently picked...| 2015-08-27|\n",
            "|         US|    2132145| RNRFACS48ZE4A|B000B55AEK|     525035983|Timex Women's Ind...|         Watches|          5|           21|         21|   N|                Y|I'm a busy colleg...|I'm a busy colleg...| 2015-08-27|\n",
            "|         US|    4160429|R2PO5QTLXJ9LHG|B00TU78EXE|     508562164|AUDEMARS PIGUET R...|         Watches|          5|           33|         46|   N|                N|Great watch and i...|Great watch. I bo...| 2015-08-27|\n",
            "|         US|   49019268|R38KDT041DRMIN|B00NIF9H3U|     998896201|Omega Men's 31130...|         Watches|          5|           19|         24|   N|                Y|Looks good on the...|Gorgeous watch wi...| 2015-08-26|\n",
            "|         US|   15374156|R3F3KMKY26K620|B006ZMHUP0|     899975826|Seiko QXA520KLH W...|         Watches|          4|           25|         26|   N|                Y|          Nice clock|This is a very pr...| 2015-08-26|\n",
            "|         US|    4121241|R2PU32HT6X9DOM|B012UTRAFG|     573799489|OhFlash 20mm [Dar...|         Watches|          5|           23|         24|   N|                Y|         Great strap|This leather stra...| 2015-08-24|\n",
            "|         US|   11531731|R1E96GHLGQ5H9D|B00SCSYWME|     116143630|Nine West Pink Te...|         Watches|          5|           22|         22|   N|                Y|This watch and I ...|I got this watch ...| 2015-08-24|\n",
            "|         US|   34163742| R86ZSHA6GWWQL|B002ZLE41I|     118278818|Grand Seiko Wrist...|         Watches|          1|            8|         28|   N|                N|wrong product bei...|Misleading photo;...| 2015-08-24|\n",
            "|         US|   36228302|R33BKAVFS3HJ97|B00KNK7VKO|     450239080|Diesel Men's DZ73...|         Watches|          5|           22|         23|   N|                N|Love this watch s...|Love this watch s...| 2015-08-24|\n",
            "+-----------+-----------+--------------+----------+--------------+--------------------+----------------+-----------+-------------+-----------+----+-----------------+--------------------+--------------------+-----------+\n",
            "only showing top 20 rows\n",
            "\n"
          ],
          "name": "stdout"
        }
      ]
    },
    {
      "cell_type": "code",
      "metadata": {
        "id": "SSuEIdAbQKgB"
      },
      "source": [
        "import pyspark.sql.functions as F"
      ],
      "execution_count": 57,
      "outputs": []
    },
    {
      "cell_type": "code",
      "metadata": {
        "id": "lPdgn210Rx69"
      },
      "source": [
        "import math"
      ],
      "execution_count": 58,
      "outputs": []
    },
    {
      "cell_type": "code",
      "metadata": {
        "id": "mJ1sp_o-whLE"
      },
      "source": [
        "df_filtered2 = df_filtered.withColumn(\"helpfulRate\", F.col(\"helpful_votes\")/F.col(\"total_votes\"))"
      ],
      "execution_count": 59,
      "outputs": []
    },
    {
      "cell_type": "code",
      "metadata": {
        "colab": {
          "base_uri": "https://localhost:8080/"
        },
        "id": "pAgA-rYPw7aj",
        "outputId": "2aa550f3-e76b-4d73-bfe0-928f63d31a42"
      },
      "source": [
        "df_filtered2.show()"
      ],
      "execution_count": 60,
      "outputs": [
        {
          "output_type": "stream",
          "text": [
            "+-----------+-----------+--------------+----------+--------------+--------------------+----------------+-----------+-------------+-----------+----+-----------------+--------------------+--------------------+-----------+-------------------+\n",
            "|marketplace|customer_id|     review_id|product_id|product_parent|       product_title|product_category|star_rating|helpful_votes|total_votes|vine|verified_purchase|     review_headline|         review_body|review_date|        helpfulRate|\n",
            "+-----------+-----------+--------------+----------+--------------+--------------------+----------------+-----------+-------------+-----------+----+-----------------+--------------------+--------------------+-----------+-------------------+\n",
            "|         US|   15806601|R1BTWIBLYYVOV7|B00I1LM5SK|     878438426|Seiko Men's SSC22...|         Watches|          5|           30|         30|   N|                Y|Extremely Satisfied!|A beautiful timep...| 2015-08-31|                1.0|\n",
            "|         US|   14870011| R6F9VY91ADPLA|B002ZLE41I|     118278818|Grand Seiko Wrist...|         Watches|          1|            8|         30|   N|                N|            NOT a GS|NOT a Grand Seiko...| 2015-08-31|0.26666666666666666|\n",
            "|         US|   32751852|R3PXNV89DFIXKV|B00OAY5ZPC|     814269665|G-Shock Men's Mil...|         Watches|          5|           35|         37|   N|                Y|Sweet watch perfe...|Sweet watch perfe...| 2015-08-30| 0.9459459459459459|\n",
            "|         US|   36877359|R2ZF9NYVT3J7D6|B000JQJS6M|     926299553|Invicta Men's 892...|         Watches|          5|           19|         22|   N|                Y|Wow what a great ...|I bought this wat...| 2015-08-30| 0.8636363636363636|\n",
            "|         US|   52450678|R20NYA5V0UF9NE|B00EX1GLXM|     186312431|Daniel Wellington...|         Watches|          5|           27|         28|   N|                Y|  Best Women's Watch|I love this watch...| 2015-08-30| 0.9642857142857143|\n",
            "|         US|   20624774|R2X8FZRUOS8R8C|B00WUY9RGM|     609917507|Bulova Accutron I...|         Watches|          4|           25|         26|   N|                Y|A very nice reiss...|A very nice reiss...| 2015-08-29| 0.9615384615384616|\n",
            "|         US|   36602051|R25UD9TA63L3Q8|B00YTYH16Y|     251372732|Timex Expedition ...|         Watches|          5|           25|         27|   N|                Y|Great watch for s...|I work in an a me...| 2015-08-28| 0.9259259259259259|\n",
            "|         US|   47047549|R2RB1HML8N712P|B00J5QR062|     220979928|Casio Men's GA-11...|         Watches|          5|           26|         28|   N|                Y| My First G-SHOCK...|I'll be honest I ...| 2015-08-28| 0.9285714285714286|\n",
            "|         US|    2546433| ROXA8XP5EI2KK|B009XGOP8A|     973820677|Michael Kors Wome...|         Watches|          5|           48|         49|   N|                N|I love it. I woul...|This thing is gor...| 2015-08-28| 0.9795918367346939|\n",
            "|         US|   53096363|R1B7M0OP3UNP6O|B00V0G9OGE|     297682929|Armitron Sport Wo...|         Watches|          5|           49|         52|   Y|                N|Lots of features ...|My wife has been ...| 2015-08-27| 0.9423076923076923|\n",
            "|         US|   27863178|R2N92CUM7WBA1A|B013XHV4GU|     119578945|G-Shock Men's G-S...|         Watches|          5|           27|         28|   N|                Y|Big, but proporti...|This is a great c...| 2015-08-27| 0.9642857142857143|\n",
            "|         US|   41750372|R2TAFZNG4KHFQB|B00YTY8MQW|     967993443|Timex Men's Weeke...|         Watches|          4|           24|         24|   N|                Y|Quiet Timex Weeke...|I recently picked...| 2015-08-27|                1.0|\n",
            "|         US|    2132145| RNRFACS48ZE4A|B000B55AEK|     525035983|Timex Women's Ind...|         Watches|          5|           21|         21|   N|                Y|I'm a busy colleg...|I'm a busy colleg...| 2015-08-27|                1.0|\n",
            "|         US|    4160429|R2PO5QTLXJ9LHG|B00TU78EXE|     508562164|AUDEMARS PIGUET R...|         Watches|          5|           33|         46|   N|                N|Great watch and i...|Great watch. I bo...| 2015-08-27|  0.717391304347826|\n",
            "|         US|   49019268|R38KDT041DRMIN|B00NIF9H3U|     998896201|Omega Men's 31130...|         Watches|          5|           19|         24|   N|                Y|Looks good on the...|Gorgeous watch wi...| 2015-08-26| 0.7916666666666666|\n",
            "|         US|   15374156|R3F3KMKY26K620|B006ZMHUP0|     899975826|Seiko QXA520KLH W...|         Watches|          4|           25|         26|   N|                Y|          Nice clock|This is a very pr...| 2015-08-26| 0.9615384615384616|\n",
            "|         US|    4121241|R2PU32HT6X9DOM|B012UTRAFG|     573799489|OhFlash 20mm [Dar...|         Watches|          5|           23|         24|   N|                Y|         Great strap|This leather stra...| 2015-08-24| 0.9583333333333334|\n",
            "|         US|   11531731|R1E96GHLGQ5H9D|B00SCSYWME|     116143630|Nine West Pink Te...|         Watches|          5|           22|         22|   N|                Y|This watch and I ...|I got this watch ...| 2015-08-24|                1.0|\n",
            "|         US|   34163742| R86ZSHA6GWWQL|B002ZLE41I|     118278818|Grand Seiko Wrist...|         Watches|          1|            8|         28|   N|                N|wrong product bei...|Misleading photo;...| 2015-08-24| 0.2857142857142857|\n",
            "|         US|   36228302|R33BKAVFS3HJ97|B00KNK7VKO|     450239080|Diesel Men's DZ73...|         Watches|          5|           22|         23|   N|                N|Love this watch s...|Love this watch s...| 2015-08-24| 0.9565217391304348|\n",
            "+-----------+-----------+--------------+----------+--------------+--------------------+----------------+-----------+-------------+-----------+----+-----------------+--------------------+--------------------+-----------+-------------------+\n",
            "only showing top 20 rows\n",
            "\n"
          ],
          "name": "stdout"
        }
      ]
    },
    {
      "cell_type": "code",
      "metadata": {
        "id": "FDE8IE4ccBcX"
      },
      "source": [
        "df_filtered3 = df_filtered2.filter(\"helpfulRate>.5\")"
      ],
      "execution_count": 61,
      "outputs": []
    },
    {
      "cell_type": "code",
      "metadata": {
        "colab": {
          "base_uri": "https://localhost:8080/"
        },
        "id": "QRastmpbcQtN",
        "outputId": "53bf94ac-c148-43ad-a32d-7d203f0d96c0"
      },
      "source": [
        "df_filtered3.show()"
      ],
      "execution_count": 62,
      "outputs": [
        {
          "output_type": "stream",
          "text": [
            "+-----------+-----------+--------------+----------+--------------+--------------------+----------------+-----------+-------------+-----------+----+-----------------+--------------------+--------------------+-----------+------------------+\n",
            "|marketplace|customer_id|     review_id|product_id|product_parent|       product_title|product_category|star_rating|helpful_votes|total_votes|vine|verified_purchase|     review_headline|         review_body|review_date|       helpfulRate|\n",
            "+-----------+-----------+--------------+----------+--------------+--------------------+----------------+-----------+-------------+-----------+----+-----------------+--------------------+--------------------+-----------+------------------+\n",
            "|         US|   15806601|R1BTWIBLYYVOV7|B00I1LM5SK|     878438426|Seiko Men's SSC22...|         Watches|          5|           30|         30|   N|                Y|Extremely Satisfied!|A beautiful timep...| 2015-08-31|               1.0|\n",
            "|         US|   32751852|R3PXNV89DFIXKV|B00OAY5ZPC|     814269665|G-Shock Men's Mil...|         Watches|          5|           35|         37|   N|                Y|Sweet watch perfe...|Sweet watch perfe...| 2015-08-30|0.9459459459459459|\n",
            "|         US|   36877359|R2ZF9NYVT3J7D6|B000JQJS6M|     926299553|Invicta Men's 892...|         Watches|          5|           19|         22|   N|                Y|Wow what a great ...|I bought this wat...| 2015-08-30|0.8636363636363636|\n",
            "|         US|   52450678|R20NYA5V0UF9NE|B00EX1GLXM|     186312431|Daniel Wellington...|         Watches|          5|           27|         28|   N|                Y|  Best Women's Watch|I love this watch...| 2015-08-30|0.9642857142857143|\n",
            "|         US|   20624774|R2X8FZRUOS8R8C|B00WUY9RGM|     609917507|Bulova Accutron I...|         Watches|          4|           25|         26|   N|                Y|A very nice reiss...|A very nice reiss...| 2015-08-29|0.9615384615384616|\n",
            "|         US|   36602051|R25UD9TA63L3Q8|B00YTYH16Y|     251372732|Timex Expedition ...|         Watches|          5|           25|         27|   N|                Y|Great watch for s...|I work in an a me...| 2015-08-28|0.9259259259259259|\n",
            "|         US|   47047549|R2RB1HML8N712P|B00J5QR062|     220979928|Casio Men's GA-11...|         Watches|          5|           26|         28|   N|                Y| My First G-SHOCK...|I'll be honest I ...| 2015-08-28|0.9285714285714286|\n",
            "|         US|    2546433| ROXA8XP5EI2KK|B009XGOP8A|     973820677|Michael Kors Wome...|         Watches|          5|           48|         49|   N|                N|I love it. I woul...|This thing is gor...| 2015-08-28|0.9795918367346939|\n",
            "|         US|   53096363|R1B7M0OP3UNP6O|B00V0G9OGE|     297682929|Armitron Sport Wo...|         Watches|          5|           49|         52|   Y|                N|Lots of features ...|My wife has been ...| 2015-08-27|0.9423076923076923|\n",
            "|         US|   27863178|R2N92CUM7WBA1A|B013XHV4GU|     119578945|G-Shock Men's G-S...|         Watches|          5|           27|         28|   N|                Y|Big, but proporti...|This is a great c...| 2015-08-27|0.9642857142857143|\n",
            "|         US|   41750372|R2TAFZNG4KHFQB|B00YTY8MQW|     967993443|Timex Men's Weeke...|         Watches|          4|           24|         24|   N|                Y|Quiet Timex Weeke...|I recently picked...| 2015-08-27|               1.0|\n",
            "|         US|    2132145| RNRFACS48ZE4A|B000B55AEK|     525035983|Timex Women's Ind...|         Watches|          5|           21|         21|   N|                Y|I'm a busy colleg...|I'm a busy colleg...| 2015-08-27|               1.0|\n",
            "|         US|    4160429|R2PO5QTLXJ9LHG|B00TU78EXE|     508562164|AUDEMARS PIGUET R...|         Watches|          5|           33|         46|   N|                N|Great watch and i...|Great watch. I bo...| 2015-08-27| 0.717391304347826|\n",
            "|         US|   49019268|R38KDT041DRMIN|B00NIF9H3U|     998896201|Omega Men's 31130...|         Watches|          5|           19|         24|   N|                Y|Looks good on the...|Gorgeous watch wi...| 2015-08-26|0.7916666666666666|\n",
            "|         US|   15374156|R3F3KMKY26K620|B006ZMHUP0|     899975826|Seiko QXA520KLH W...|         Watches|          4|           25|         26|   N|                Y|          Nice clock|This is a very pr...| 2015-08-26|0.9615384615384616|\n",
            "|         US|    4121241|R2PU32HT6X9DOM|B012UTRAFG|     573799489|OhFlash 20mm [Dar...|         Watches|          5|           23|         24|   N|                Y|         Great strap|This leather stra...| 2015-08-24|0.9583333333333334|\n",
            "|         US|   11531731|R1E96GHLGQ5H9D|B00SCSYWME|     116143630|Nine West Pink Te...|         Watches|          5|           22|         22|   N|                Y|This watch and I ...|I got this watch ...| 2015-08-24|               1.0|\n",
            "|         US|   36228302|R33BKAVFS3HJ97|B00KNK7VKO|     450239080|Diesel Men's DZ73...|         Watches|          5|           22|         23|   N|                N|Love this watch s...|Love this watch s...| 2015-08-24|0.9565217391304348|\n",
            "|         US|    9443315|R32EUTQ34MNG1W|B00IAVVC4E|     302843853|MVMT Watches Whit...|         Watches|          1|           26|         32|   N|                Y|watch stopped wor...|The watch stopped...| 2015-08-24|            0.8125|\n",
            "|         US|   32759355| RDOUTLIOKLLR1|B00I9IH56M|     405529437|Casio Mens Classi...|         Watches|          1|           33|         37|   N|                Y| Pretty cheap watch.|Watch arrived as ...| 2015-08-24|0.8918918918918919|\n",
            "+-----------+-----------+--------------+----------+--------------+--------------------+----------------+-----------+-------------+-----------+----+-----------------+--------------------+--------------------+-----------+------------------+\n",
            "only showing top 20 rows\n",
            "\n"
          ],
          "name": "stdout"
        }
      ]
    },
    {
      "cell_type": "code",
      "metadata": {
        "id": "pf_mlrpCcSLm"
      },
      "source": [
        "vine_filtered = df_filtered3.filter(\"vine == 'Y'\")"
      ],
      "execution_count": 63,
      "outputs": []
    },
    {
      "cell_type": "code",
      "metadata": {
        "colab": {
          "base_uri": "https://localhost:8080/"
        },
        "id": "VDnSLi7_clmm",
        "outputId": "58527fd8-e5b1-4185-db23-13fd69a41dcd"
      },
      "source": [
        "vine_filtered.show()"
      ],
      "execution_count": 64,
      "outputs": [
        {
          "output_type": "stream",
          "text": [
            "+-----------+-----------+--------------+----------+--------------+--------------------+----------------+-----------+-------------+-----------+----+-----------------+--------------------+--------------------+-----------+------------------+\n",
            "|marketplace|customer_id|     review_id|product_id|product_parent|       product_title|product_category|star_rating|helpful_votes|total_votes|vine|verified_purchase|     review_headline|         review_body|review_date|       helpfulRate|\n",
            "+-----------+-----------+--------------+----------+--------------+--------------------+----------------+-----------+-------------+-----------+----+-----------------+--------------------+--------------------+-----------+------------------+\n",
            "|         US|   53096363|R1B7M0OP3UNP6O|B00V0G9OGE|     297682929|Armitron Sport Wo...|         Watches|          5|           49|         52|   Y|                N|Lots of features ...|My wife has been ...| 2015-08-27|0.9423076923076923|\n",
            "|         US|   51394788|R2UUV4UGGYMQG8|B00M1Y5AIU|     368146384|Boulevard ClickTi...|         Watches|          5|           34|         39|   Y|                N|Another superb up...|I'm shocked that ...| 2014-11-10|0.8717948717948718|\n",
            "|         US|   43796190| R9K0LZV2BK9YY|B008AXURAW|     328723789|Fossil FS4735 Gra...|         Watches|          4|           37|         39|   Y|                N|A very handsome w...|There are plenty ...| 2014-07-29|0.9487179487179487|\n",
            "|         US|   52460215|R2OVFLNEUEGTJM|B00IOOB1RU|     394792547|Casio Men's STB-1...|         Watches|          3|           18|         25|   Y|                N|   Nice But Overkill|Casio makes good ...| 2014-05-22|              0.72|\n",
            "|         US|   20981134| RBE09ELJ77LQ0|B00ATUKPRE|     250661797|Invicta Men's 143...|         Watches|          5|           44|         45|   Y|                N|A large yet class...|[[VIDEOID:mo31IMO...| 2013-06-18|0.9777777777777777|\n",
            "|         US|   52584172|R3867T8AIJJHM6|B00ATUKPRE|     250661797|Invicta Men's 143...|         Watches|          5|           26|         27|   Y|                N|Large faced flash...|On the internet w...| 2013-06-17|0.9629629629629629|\n",
            "|         US|   49214860|R1FNVUXPU63WOZ|B00B2GZI1M|     539196805|Stuhrling Origina...|         Watches|          4|           43|         48|   Y|                N|Beautiful and Fun...|Shopping for watc...| 2013-06-05|0.8958333333333334|\n",
            "|         US|   39036425|R25XGG2G12SE1Z|B00B2GZJXE|     777697728|Stuhrling Origina...|         Watches|          4|           20|         23|   Y|                N|Packaging is grea...|There are plus it...| 2013-05-23|0.8695652173913043|\n",
            "|         US|   42247018| R3JKU4HRDFZDH|B00ATUKQG4|     479826550|Invicta Men's 143...|         Watches|          4|           27|         30|   Y|                N|An absolutely bea...|The Invicta 14331...| 2013-05-23|               0.9|\n",
            "|         US|   52775525|R2PQYOCJXRB1BF|B00B2GZJXE|     777697728|Stuhrling Origina...|         Watches|          5|           26|         28|   Y|                N|Beautifully Class...|I love this watch...| 2013-05-23|0.9285714285714286|\n",
            "|         US|   51731441|R1JBQ8UBLA8N4X|B00791R1MI|     961043582|Casio Men's Solar...|         Watches|          4|          349|        370|   Y|                N|Great Idea But Ha...|The Casio Men's A...| 2013-05-09|0.9432432432432433|\n",
            "|         US|   50820654|R2I01ZYMO0GYP1|B00791R1MI|     961043582|Casio Men's Solar...|         Watches|          4|          107|        121|   Y|                N|Good Quality Watc...|This Casio Solar ...| 2013-05-03|0.8842975206611571|\n",
            "|         US|   39036425|R297GF8EF7AXPO|B00AELHD0U|     430738829|Casio Men's Ana-D...|         Watches|          2|           22|         30|   Y|                N|A watch you can u...|Taking this watch...| 2013-04-27|0.7333333333333333|\n",
            "|         US|   52486291|R2OFG89WKPLHGU|B00AELHD0U|     430738829|Casio Men's Ana-D...|         Watches|          5|           54|         60|   Y|                N|The Perfect Post-...|After the apocaly...| 2013-04-25|               0.9|\n",
            "|         US|   52755608|R13PI8O4697CEV|B00791R1MI|     961043582|Casio Men's Solar...|         Watches|          4|          135|        144|   Y|                N|Fun sporty solar ...|Casio Men's AQ-S8...| 2013-04-24|            0.9375|\n",
            "|         US|   51118641|R223MX62JYWUOY|B00ATULBA4|     487220800|Invicta Women's 1...|         Watches|          4|           20|         21|   Y|                N|It's not your Gra...|If you are consid...| 2013-04-11|0.9523809523809523|\n",
            "|         US|   34571698| RTSXZ0HZF623M|B00ATUL9TW|     364380215|Invicta Women's 1...|         Watches|          3|           13|         22|   Y|                N|Strong enough for...|I know Invicta pr...| 2013-04-06|0.5909090909090909|\n",
            "|         US|   42043140|R1OB4GCKEYGV9I|B0096IQZ8S|     398873095|Stuhrling Origina...|         Watches|          4|           61|         90|   Y|                N|Everything About ...|Immediately upon ...| 2013-01-20|0.6777777777777778|\n",
            "|         US|   48002256|R3L4Z6NK2Z4OV5|B0089K8CHG|     613213413|Stuhrling Origina...|         Watches|          2|           24|         33|   Y|                N|    Hard to see time|Stuhrling is a ma...| 2012-10-27|0.7272727272727273|\n",
            "|         US|   52825479|R3LRMV7GANS3MX|B0089K8CE4|     613213413|Stuhrling Origina...|         Watches|          3|           40|         50|   Y|                N|Decent quality wa...|This Stuhrling wa...| 2012-10-25|               0.8|\n",
            "+-----------+-----------+--------------+----------+--------------+--------------------+----------------+-----------+-------------+-----------+----+-----------------+--------------------+--------------------+-----------+------------------+\n",
            "only showing top 20 rows\n",
            "\n"
          ],
          "name": "stdout"
        }
      ]
    },
    {
      "cell_type": "code",
      "metadata": {
        "id": "zeRAC1d6cnMP"
      },
      "source": [
        "nonVine_filtered = df_filtered3.filter(\"vine == 'N'\")"
      ],
      "execution_count": 66,
      "outputs": []
    },
    {
      "cell_type": "code",
      "metadata": {
        "colab": {
          "base_uri": "https://localhost:8080/"
        },
        "id": "DNUWgX6QcyWz",
        "outputId": "f02caded-6296-407a-c76f-58983f6c0af2"
      },
      "source": [
        "nonVine_filtered.show()"
      ],
      "execution_count": 67,
      "outputs": [
        {
          "output_type": "stream",
          "text": [
            "+-----------+-----------+--------------+----------+--------------+--------------------+----------------+-----------+-------------+-----------+----+-----------------+--------------------+--------------------+-----------+------------------+\n",
            "|marketplace|customer_id|     review_id|product_id|product_parent|       product_title|product_category|star_rating|helpful_votes|total_votes|vine|verified_purchase|     review_headline|         review_body|review_date|       helpfulRate|\n",
            "+-----------+-----------+--------------+----------+--------------+--------------------+----------------+-----------+-------------+-----------+----+-----------------+--------------------+--------------------+-----------+------------------+\n",
            "|         US|   15806601|R1BTWIBLYYVOV7|B00I1LM5SK|     878438426|Seiko Men's SSC22...|         Watches|          5|           30|         30|   N|                Y|Extremely Satisfied!|A beautiful timep...| 2015-08-31|               1.0|\n",
            "|         US|   32751852|R3PXNV89DFIXKV|B00OAY5ZPC|     814269665|G-Shock Men's Mil...|         Watches|          5|           35|         37|   N|                Y|Sweet watch perfe...|Sweet watch perfe...| 2015-08-30|0.9459459459459459|\n",
            "|         US|   36877359|R2ZF9NYVT3J7D6|B000JQJS6M|     926299553|Invicta Men's 892...|         Watches|          5|           19|         22|   N|                Y|Wow what a great ...|I bought this wat...| 2015-08-30|0.8636363636363636|\n",
            "|         US|   52450678|R20NYA5V0UF9NE|B00EX1GLXM|     186312431|Daniel Wellington...|         Watches|          5|           27|         28|   N|                Y|  Best Women's Watch|I love this watch...| 2015-08-30|0.9642857142857143|\n",
            "|         US|   20624774|R2X8FZRUOS8R8C|B00WUY9RGM|     609917507|Bulova Accutron I...|         Watches|          4|           25|         26|   N|                Y|A very nice reiss...|A very nice reiss...| 2015-08-29|0.9615384615384616|\n",
            "|         US|   36602051|R25UD9TA63L3Q8|B00YTYH16Y|     251372732|Timex Expedition ...|         Watches|          5|           25|         27|   N|                Y|Great watch for s...|I work in an a me...| 2015-08-28|0.9259259259259259|\n",
            "|         US|   47047549|R2RB1HML8N712P|B00J5QR062|     220979928|Casio Men's GA-11...|         Watches|          5|           26|         28|   N|                Y| My First G-SHOCK...|I'll be honest I ...| 2015-08-28|0.9285714285714286|\n",
            "|         US|    2546433| ROXA8XP5EI2KK|B009XGOP8A|     973820677|Michael Kors Wome...|         Watches|          5|           48|         49|   N|                N|I love it. I woul...|This thing is gor...| 2015-08-28|0.9795918367346939|\n",
            "|         US|   27863178|R2N92CUM7WBA1A|B013XHV4GU|     119578945|G-Shock Men's G-S...|         Watches|          5|           27|         28|   N|                Y|Big, but proporti...|This is a great c...| 2015-08-27|0.9642857142857143|\n",
            "|         US|   41750372|R2TAFZNG4KHFQB|B00YTY8MQW|     967993443|Timex Men's Weeke...|         Watches|          4|           24|         24|   N|                Y|Quiet Timex Weeke...|I recently picked...| 2015-08-27|               1.0|\n",
            "|         US|    2132145| RNRFACS48ZE4A|B000B55AEK|     525035983|Timex Women's Ind...|         Watches|          5|           21|         21|   N|                Y|I'm a busy colleg...|I'm a busy colleg...| 2015-08-27|               1.0|\n",
            "|         US|    4160429|R2PO5QTLXJ9LHG|B00TU78EXE|     508562164|AUDEMARS PIGUET R...|         Watches|          5|           33|         46|   N|                N|Great watch and i...|Great watch. I bo...| 2015-08-27| 0.717391304347826|\n",
            "|         US|   49019268|R38KDT041DRMIN|B00NIF9H3U|     998896201|Omega Men's 31130...|         Watches|          5|           19|         24|   N|                Y|Looks good on the...|Gorgeous watch wi...| 2015-08-26|0.7916666666666666|\n",
            "|         US|   15374156|R3F3KMKY26K620|B006ZMHUP0|     899975826|Seiko QXA520KLH W...|         Watches|          4|           25|         26|   N|                Y|          Nice clock|This is a very pr...| 2015-08-26|0.9615384615384616|\n",
            "|         US|    4121241|R2PU32HT6X9DOM|B012UTRAFG|     573799489|OhFlash 20mm [Dar...|         Watches|          5|           23|         24|   N|                Y|         Great strap|This leather stra...| 2015-08-24|0.9583333333333334|\n",
            "|         US|   11531731|R1E96GHLGQ5H9D|B00SCSYWME|     116143630|Nine West Pink Te...|         Watches|          5|           22|         22|   N|                Y|This watch and I ...|I got this watch ...| 2015-08-24|               1.0|\n",
            "|         US|   36228302|R33BKAVFS3HJ97|B00KNK7VKO|     450239080|Diesel Men's DZ73...|         Watches|          5|           22|         23|   N|                N|Love this watch s...|Love this watch s...| 2015-08-24|0.9565217391304348|\n",
            "|         US|    9443315|R32EUTQ34MNG1W|B00IAVVC4E|     302843853|MVMT Watches Whit...|         Watches|          1|           26|         32|   N|                Y|watch stopped wor...|The watch stopped...| 2015-08-24|            0.8125|\n",
            "|         US|   32759355| RDOUTLIOKLLR1|B00I9IH56M|     405529437|Casio Mens Classi...|         Watches|          1|           33|         37|   N|                Y| Pretty cheap watch.|Watch arrived as ...| 2015-08-24|0.8918918918918919|\n",
            "|         US|   46691004| R3BFHNMC7PBKS|B000JQJS6M|     926299553|Invicta Men's 892...|         Watches|          5|           26|         28|   N|                Y|        Just Buy It!|I am very pleased...| 2015-08-23|0.9285714285714286|\n",
            "+-----------+-----------+--------------+----------+--------------+--------------------+----------------+-----------+-------------+-----------+----+-----------------+--------------------+--------------------+-----------+------------------+\n",
            "only showing top 20 rows\n",
            "\n"
          ],
          "name": "stdout"
        }
      ]
    },
    {
      "cell_type": "code",
      "metadata": {
        "colab": {
          "base_uri": "https://localhost:8080/"
        },
        "id": "CRhv1XCmc4qP",
        "outputId": "fb9747df-9814-468f-b6f9-2575940d0229"
      },
      "source": [
        "df.count()"
      ],
      "execution_count": 68,
      "outputs": [
        {
          "output_type": "execute_result",
          "data": {
            "text/plain": [
              "960872"
            ]
          },
          "metadata": {
            "tags": []
          },
          "execution_count": 68
        }
      ]
    },
    {
      "cell_type": "code",
      "metadata": {
        "colab": {
          "base_uri": "https://localhost:8080/"
        },
        "id": "KBHQHb-qdF99",
        "outputId": "7fedccc8-adbc-4597-8181-afbf2db4ac8e"
      },
      "source": [
        "df_filtered.count()"
      ],
      "execution_count": 69,
      "outputs": [
        {
          "output_type": "execute_result",
          "data": {
            "text/plain": [
              "8902"
            ]
          },
          "metadata": {
            "tags": []
          },
          "execution_count": 69
        }
      ]
    },
    {
      "cell_type": "code",
      "metadata": {
        "colab": {
          "base_uri": "https://localhost:8080/"
        },
        "id": "7oVcxiiedKwC",
        "outputId": "dabbeffa-be5a-4a80-92c0-9fae6a5791a2"
      },
      "source": [
        "df_filtered2.count()"
      ],
      "execution_count": 70,
      "outputs": [
        {
          "output_type": "execute_result",
          "data": {
            "text/plain": [
              "8902"
            ]
          },
          "metadata": {
            "tags": []
          },
          "execution_count": 70
        }
      ]
    },
    {
      "cell_type": "code",
      "metadata": {
        "colab": {
          "base_uri": "https://localhost:8080/"
        },
        "id": "NV9mO-yAdOdf",
        "outputId": "1305233a-dca5-4fd0-9769-311774568267"
      },
      "source": [
        "vine_filtered.count()"
      ],
      "execution_count": 71,
      "outputs": [
        {
          "output_type": "execute_result",
          "data": {
            "text/plain": [
              "43"
            ]
          },
          "metadata": {
            "tags": []
          },
          "execution_count": 71
        }
      ]
    },
    {
      "cell_type": "code",
      "metadata": {
        "colab": {
          "base_uri": "https://localhost:8080/"
        },
        "id": "YHCv44SNdSYx",
        "outputId": "2acd0d49-8c30-4753-ad6b-1cb95fadfe72"
      },
      "source": [
        "nonVine_filtered.count()"
      ],
      "execution_count": 72,
      "outputs": [
        {
          "output_type": "execute_result",
          "data": {
            "text/plain": [
              "7720"
            ]
          },
          "metadata": {
            "tags": []
          },
          "execution_count": 72
        }
      ]
    },
    {
      "cell_type": "code",
      "metadata": {
        "colab": {
          "base_uri": "https://localhost:8080/"
        },
        "id": "U62ljw7OdWOm",
        "outputId": "fbc7a313-c5a1-496a-b898-6f5e21fa4f91"
      },
      "source": [
        "df_filtered3.count()"
      ],
      "execution_count": 73,
      "outputs": [
        {
          "output_type": "execute_result",
          "data": {
            "text/plain": [
              "7763"
            ]
          },
          "metadata": {
            "tags": []
          },
          "execution_count": 73
        }
      ]
    },
    {
      "cell_type": "code",
      "metadata": {
        "colab": {
          "base_uri": "https://localhost:8080/"
        },
        "id": "qxWZZpVMd64e",
        "outputId": "1fac12ca-96df-445e-d799-b9cfb10f2f54"
      },
      "source": [
        "nonVine_filtered.filter(\"star_rating=5\").count()"
      ],
      "execution_count": 81,
      "outputs": [
        {
          "output_type": "execute_result",
          "data": {
            "text/plain": [
              "4018"
            ]
          },
          "metadata": {
            "tags": []
          },
          "execution_count": 81
        }
      ]
    },
    {
      "cell_type": "code",
      "metadata": {
        "colab": {
          "base_uri": "https://localhost:8080/"
        },
        "id": "qe4diEKCec3q",
        "outputId": "0d987a75-a6d1-4035-eed5-00f97266d23e"
      },
      "source": [
        "vine_filtered.filter(\"star_rating=5\").count()"
      ],
      "execution_count": 82,
      "outputs": [
        {
          "output_type": "execute_result",
          "data": {
            "text/plain": [
              "14"
            ]
          },
          "metadata": {
            "tags": []
          },
          "execution_count": 82
        }
      ]
    },
    {
      "cell_type": "code",
      "metadata": {
        "colab": {
          "base_uri": "https://localhost:8080/"
        },
        "id": "ajG0zXpuekpM",
        "outputId": "459e035d-747a-4ea4-c806-18d029419cc1"
      },
      "source": [
        "df.filter(\"star_rating=5\").count()"
      ],
      "execution_count": 83,
      "outputs": [
        {
          "output_type": "execute_result",
          "data": {
            "text/plain": [
              "571627"
            ]
          },
          "metadata": {
            "tags": []
          },
          "execution_count": 83
        }
      ]
    },
    {
      "cell_type": "code",
      "metadata": {
        "colab": {
          "base_uri": "https://localhost:8080/"
        },
        "id": "Jhz9DzJwesOq",
        "outputId": "fd465bf6-328a-484f-a743-ee8f74617375"
      },
      "source": [
        "df_filtered.filter(\"star_rating=5\").count()"
      ],
      "execution_count": 84,
      "outputs": [
        {
          "output_type": "execute_result",
          "data": {
            "text/plain": [
              "4210"
            ]
          },
          "metadata": {
            "tags": []
          },
          "execution_count": 84
        }
      ]
    },
    {
      "cell_type": "code",
      "metadata": {
        "id": "gT5svyWSe3hO"
      },
      "source": [
        ""
      ],
      "execution_count": null,
      "outputs": []
    }
  ]
}